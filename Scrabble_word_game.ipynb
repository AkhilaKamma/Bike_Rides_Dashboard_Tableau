{
 "cells": [
  {
   "cell_type": "code",
   "execution_count": 1,
   "id": "fa2d7060",
   "metadata": {},
   "outputs": [],
   "source": [
    "import pandas"
   ]
  },
  {
   "cell_type": "code",
   "execution_count": 15,
   "id": "86d4e480",
   "metadata": {},
   "outputs": [
    {
     "name": "stdout",
     "output_type": "stream",
     "text": [
      "agursic\n",
      "['cigars', 'craigs'] 9\n"
     ]
    }
   ],
   "source": [
    "import random\n",
    "import itertools\n",
    "\n",
    "def valid_words_and_score():\n",
    "    words = {}\n",
    "    word_score = {}\n",
    "    letter_values={'a':1,'b':3,'c':3,'d':2,'e':1,'f':4,'g':2,'h':4,'i':1,'j':8,'k':5,'l':1,'m':3,'n':1,'o':1,'p':3,'q':10,'r':1,'s':1,'t':1,'u':1,'v':4,'w':4,'x':8,'y':4,'z':10,'$':0 }\n",
    "    for line in open(r\"C:\\Users\\akamma1\\Documents\\Jupyter\\sowpods.txt\",\"r\"):\n",
    "        line = line.strip().lower()\n",
    "        ##print(line)\n",
    "        key = \"\".join(sorted(line))\n",
    "        if key in words:\n",
    "            words[key].append(line)\n",
    "        else:\n",
    "            words[key] = []\n",
    "            words[key].append(line)\n",
    "            word_score[key] = sum([letter_values[ch] for ch in key])\n",
    "    return words , word_score\n",
    "\n",
    "def best_word():\n",
    "    rack = input()\n",
    "    sorted_rack = \"\"\n",
    "    if len(rack) == 7:\n",
    "        sorted_rack = \"\".join(sorted(rack))\n",
    "        letter_combinations = []\n",
    "        alphabets = \"abcdefghijklmnopqrstuvwxyz\"\n",
    "        letter_values={'a':1,'b':3,'c':3,'d':2,'e':1,'f':4,'g':2,'h':4,'i':1,'j':8,'k':5,'l':1,'m':3,'n':1,'o':1,'p':3,'q':10,'r':1,'s':1,'t':1,'u':1,'v':4,'w':4,'x':8,'y':4,'z':10,'$':0 }\n",
    "        words, word_score = valid_words_and_score()\n",
    "        ##--------------##\n",
    "        ##print(words, word_score)\n",
    "        ##--------------##\n",
    "        substract_score = 0\n",
    "        seven_letter_word = sorted_rack\n",
    "        if '$' in sorted_rack:\n",
    "            dollar_count = 0\n",
    "            dollar_count = sorted_rack.count(\"$\")\n",
    "            max_score = 0\n",
    "            required = 0\n",
    "            for ch in alphabets:\n",
    "                seven_letter_word = \"\".join(sorted(sorted_rack.replace('$', ch)))\n",
    "                if seven_letter_word in words.keys():\n",
    "                    if word_score[seven_letter_word] > max_score:\n",
    "                        max_score = word_score[seven_letter_word]\n",
    "                        required = seven_letter_word\n",
    "                        substract_score = letter_values[ch] * dollar_count\n",
    "            return words[required] ,word_score[required] - substract_score\n",
    "        if seven_letter_word in words.keys():\n",
    "            return words[seven_letter_word], word_score[seven_letter_word]\n",
    "        else:\n",
    "            for size in range(2,7):\n",
    "                if '$' in sorted_rack:\n",
    "                    sorted_rack = \"\".join(sorted_rack.split(\"$\"))\n",
    "                letter_combinations += [\"\".join(x) for x in itertools.combinations(sorted_rack,size)]\n",
    "            max_score = 0\n",
    "            required = 0\n",
    "            for combination in letter_combinations:\n",
    "                if combination in word_score.keys():\n",
    "                    if word_score[combination] > max_score:\n",
    "                        max_score = word_score[combination]\n",
    "                        required = combination\n",
    "            return words[required] ,word_score[required]\n",
    "        return \"No Word\", 0\n",
    "    else:\n",
    "        return \"invalid_input\" , 0\n",
    "best_word, best_score = best_word()\n",
    "print(best_word, best_score)\n",
    "    "
   ]
  },
  {
   "cell_type": "code",
   "execution_count": null,
   "id": "1b0acde4",
   "metadata": {},
   "outputs": [],
   "source": []
  }
 ],
 "metadata": {
  "kernelspec": {
   "display_name": "Python 3 (ipykernel)",
   "language": "python",
   "name": "python3"
  },
  "language_info": {
   "codemirror_mode": {
    "name": "ipython",
    "version": 3
   },
   "file_extension": ".py",
   "mimetype": "text/x-python",
   "name": "python",
   "nbconvert_exporter": "python",
   "pygments_lexer": "ipython3",
   "version": "3.9.13"
  }
 },
 "nbformat": 4,
 "nbformat_minor": 5
}
